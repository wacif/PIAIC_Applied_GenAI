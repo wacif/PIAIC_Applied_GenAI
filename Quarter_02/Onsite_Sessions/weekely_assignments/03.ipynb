{
 "cells": [
  {
   "cell_type": "markdown",
   "metadata": {},
   "source": [
    "## **Objective:**\n",
    "### Demonstrate how to use the Gemini API to utilize images as prompts.\n",
    "### Include practical setup, configuration, and usage examples in Google Colab.\n",
    "\n",
    "---"
   ]
  },
  {
   "cell_type": "markdown",
   "metadata": {},
   "source": [
    "## Step 1: Install Required Libraries\n",
    "### Make sure you have the required libraries for interacting with the Gemini API.\n",
    "### Typically, these might include `requests`, `Pillow` (for image processing), and others."
   ]
  },
  {
   "cell_type": "code",
   "execution_count": null,
   "metadata": {
    "vscode": {
     "languageId": "plaintext"
    }
   },
   "outputs": [],
   "source": []
  }
 ],
 "metadata": {
  "language_info": {
   "name": "python"
  }
 },
 "nbformat": 4,
 "nbformat_minor": 2
}
