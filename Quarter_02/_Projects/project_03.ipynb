{
  "cells": [
    {
      "cell_type": "markdown",
      "metadata": {
        "id": "view-in-github",
        "colab_type": "text"
      },
      "source": [
        "<a href=\"https://colab.research.google.com/github/wacif/PIAIC_Applied_GenAI_Batch62/blob/main/Quarter_02/_Projects/project_03.ipynb\" target=\"_parent\"><img src=\"https://colab.research.google.com/assets/colab-badge.svg\" alt=\"Open In Colab\"/></a>"
      ]
    },
    {
      "cell_type": "markdown",
      "metadata": {
        "id": "QYdKHxhSftZj"
      },
      "source": [
        "# **Project 02: LangChain RAG Project**\n",
        "\n",
        "\n",
        "---\n",
        "\n",
        "\n",
        "\n",
        "---\n"
      ]
    },
    {
      "cell_type": "markdown",
      "source": [
        "####  **Task:**\n",
        "\n",
        "Create a Google Colab Notebook that integrates a function/tool-calling workflow using LangChain, Google Gemini Flash, and custom tools. Your system should:\n",
        "\n",
        "- **Set Up Environment Variables:** Load the Google Gemini Flash API key securely.\n",
        "- **Define the Custom Tool:** Implement a set of tools to perform some custom actions.\n",
        "- **Create the Tool Wrapper for LangChain:** Integrate the calculator with LangChain as a callable tool.\n",
        "- **Set Up the Google Gemini Flash Model:** Initialize the Gemini model with tool-calling capabilities.\n",
        "- **Build the Conversational Chain:** Develop a conversational interface that maintains context and interacts with the tools.\n",
        "- **Test the Custom Tools:** Demonstrate the system's ability to handle various queries.\n",
        "- **Optional Enhancements:** Extend functionality with advanced operations, improved error handling, UI integration, or logging."
      ],
      "metadata": {
        "id": "b2Y_i7Z3ge6Y"
      }
    },
    {
      "cell_type": "code",
      "source": [
        "%pip install -qU langchain-google-genai"
      ],
      "metadata": {
        "id": "kIpB0AhkGipH",
        "outputId": "a1acd13e-02c6-4e74-b5d5-5e1f826d3314",
        "colab": {
          "base_uri": "https://localhost:8080/"
        }
      },
      "execution_count": 1,
      "outputs": [
        {
          "output_type": "stream",
          "name": "stdout",
          "text": [
            "\u001b[?25l   \u001b[90m━━━━━━━━━━━━━━━━━━━━━━━━━━━━━━━━━━━━━━━━\u001b[0m \u001b[32m0.0/41.5 kB\u001b[0m \u001b[31m?\u001b[0m eta \u001b[36m-:--:--\u001b[0m\r\u001b[2K   \u001b[90m━━━━━━━━━━━━━━━━━━━━━━━━━━━━━━━━━━━━━━━━\u001b[0m \u001b[32m41.5/41.5 kB\u001b[0m \u001b[31m2.0 MB/s\u001b[0m eta \u001b[36m0:00:00\u001b[0m\n",
            "\u001b[?25h"
          ]
        }
      ]
    },
    {
      "cell_type": "code",
      "source": [
        "from google.colab import userdata\n",
        "import os\n",
        "\n",
        "os.environ[\"GOOGLE_API_KEY\"] = userdata.get('GOOGLE_API_KEY')"
      ],
      "metadata": {
        "id": "YwP5dQKoHPMz"
      },
      "execution_count": 3,
      "outputs": []
    },
    {
      "cell_type": "code",
      "source": [
        "from langchain.tools import tool\n",
        "\n",
        "@tool\n",
        "def calculator(expression: str) -> str:\n",
        "    \"\"\"\n",
        "    A simple calculator tool that evaluates mathematical expressions.\n",
        "    Args:\n",
        "        expression (str): A mathematical expression to evaluate.\n",
        "    Returns:\n",
        "        str: The result of the evaluation.\n",
        "    \"\"\"\n",
        "    try:\n",
        "        result = eval(expression)\n",
        "        return str(result)\n",
        "    except Exception as e:\n",
        "        return f\"Error evaluating expression: {e}\"\n",
        "\n",
        "@tool\n",
        "def acceleration(velocity: int, time: int) -> float:\n",
        "    \"\"\"Find acceleration\"\"\"\n",
        "    return velocity / time"
      ],
      "metadata": {
        "id": "_GnX3sAbgJDX"
      },
      "execution_count": 21,
      "outputs": []
    },
    {
      "cell_type": "code",
      "source": [
        "tools = [add, multiply]"
      ],
      "metadata": {
        "id": "b45QO0XnpH3c"
      },
      "execution_count": 22,
      "outputs": []
    },
    {
      "cell_type": "code",
      "source": [
        "from langchain_google_genai import ChatGoogleGenerativeAI\n",
        "\n",
        "# Initialize the Gemini model\n",
        "llm = ChatGoogleGenerativeAI(\n",
        "    model=\"gemini-2.0-flash-exp\"\n",
        ")\n",
        "\n",
        "# Bind tools to the LLM\n",
        "llm_with_tools = llm.bind_tools(tools)"
      ],
      "metadata": {
        "id": "d6KFe-0kpa2v"
      },
      "execution_count": 23,
      "outputs": []
    },
    {
      "cell_type": "code",
      "source": [
        "# Invoke the llm\n",
        "message = 'find acceleration where velocity is 5 and time is 50'\n",
        "response = llm_with_tools.invoke(message)"
      ],
      "metadata": {
        "id": "JCEbI6EJq9zS"
      },
      "execution_count": 26,
      "outputs": []
    },
    {
      "cell_type": "code",
      "source": [
        "print(response)"
      ],
      "metadata": {
        "id": "mItbMAt_rfUB",
        "outputId": "0e12cf77-0513-41b3-b93d-31bfeb84c842",
        "colab": {
          "base_uri": "https://localhost:8080/"
        }
      },
      "execution_count": 27,
      "outputs": [
        {
          "output_type": "stream",
          "name": "stdout",
          "text": [
            "content='' additional_kwargs={'function_call': {'name': 'Acceleration', 'arguments': '{\"__arg1\": \"velocity is 5 and time is 50\"}'}} response_metadata={'prompt_feedback': {'block_reason': 0, 'safety_ratings': []}, 'finish_reason': 'STOP', 'safety_ratings': [{'category': 'HARM_CATEGORY_HATE_SPEECH', 'probability': 'NEGLIGIBLE', 'blocked': False}, {'category': 'HARM_CATEGORY_DANGEROUS_CONTENT', 'probability': 'NEGLIGIBLE', 'blocked': False}, {'category': 'HARM_CATEGORY_HARASSMENT', 'probability': 'NEGLIGIBLE', 'blocked': False}, {'category': 'HARM_CATEGORY_SEXUALLY_EXPLICIT', 'probability': 'NEGLIGIBLE', 'blocked': False}]} id='run-16847170-5a86-4d0c-99f1-2b1b2b516ae6-0' tool_calls=[{'name': 'Acceleration', 'args': {'__arg1': 'velocity is 5 and time is 50'}, 'id': 'b6fb7256-008c-4ef8-a8d1-881f1ecf38ab', 'type': 'tool_call'}] usage_metadata={'input_tokens': 92, 'output_tokens': 14, 'total_tokens': 106, 'input_token_details': {'cache_read': 0}}\n"
          ]
        }
      ]
    }
  ],
  "metadata": {
    "language_info": {
      "name": "python"
    },
    "colab": {
      "provenance": [],
      "include_colab_link": true
    },
    "kernelspec": {
      "name": "python3",
      "display_name": "Python 3"
    }
  },
  "nbformat": 4,
  "nbformat_minor": 0
}