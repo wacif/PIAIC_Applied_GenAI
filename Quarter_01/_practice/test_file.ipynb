{
 "cells": [
  {
   "cell_type": "code",
   "execution_count": 3,
   "metadata": {},
   "outputs": [
    {
     "name": "stdout",
     "output_type": "stream",
     "text": [
      "<class 'tuple'>\n"
     ]
    }
   ],
   "source": [
    "thisistuple = (\"value1\",)\n",
    "print(type(thisistuple))"
   ]
  },
  {
   "cell_type": "code",
   "execution_count": 4,
   "metadata": {},
   "outputs": [
    {
     "name": "stdout",
     "output_type": "stream",
     "text": [
      "<class 'str'>\n"
     ]
    }
   ],
   "source": [
    "thisisstring = (\"value2\")\n",
    "print(type(thisisstring))"
   ]
  },
  {
   "cell_type": "code",
   "execution_count": null,
   "metadata": {},
   "outputs": [],
   "source": [
    "thisisstring = (\"value2\")\n",
    "print(type(thisisstring))\n"
   ]
  },
  {
   "cell_type": "code",
   "execution_count": 9,
   "metadata": {},
   "outputs": [
    {
     "ename": "ValueError",
     "evalue": "invalid literal for int() with base 10: ''",
     "output_type": "error",
     "traceback": [
      "\u001b[1;31m---------------------------------------------------------------------------\u001b[0m",
      "\u001b[1;31mValueError\u001b[0m                                Traceback (most recent call last)",
      "Cell \u001b[1;32mIn[9], line 10\u001b[0m\n\u001b[0;32m      8\u001b[0m numbers \u001b[38;5;241m=\u001b[39m []\n\u001b[0;32m      9\u001b[0m \u001b[38;5;28;01mfor\u001b[39;00m i \u001b[38;5;129;01min\u001b[39;00m \u001b[38;5;28mrange\u001b[39m(\u001b[38;5;241m1\u001b[39m, \u001b[38;5;241m4\u001b[39m):\n\u001b[1;32m---> 10\u001b[0m     number \u001b[38;5;241m=\u001b[39m \u001b[38;5;28;43mint\u001b[39;49m\u001b[43m(\u001b[49m\u001b[38;5;28;43minput\u001b[39;49m\u001b[43m(\u001b[49m\u001b[38;5;124;43mf\u001b[39;49m\u001b[38;5;124;43m\"\u001b[39;49m\u001b[38;5;124;43mEnter your \u001b[39;49m\u001b[38;5;132;43;01m{\u001b[39;49;00m\u001b[43mi\u001b[49m\u001b[38;5;132;43;01m}\u001b[39;49;00m\u001b[38;5;132;43;01m{\u001b[39;49;00m\u001b[38;5;124;43m'\u001b[39;49m\u001b[38;5;124;43mst\u001b[39;49m\u001b[38;5;124;43m'\u001b[39;49m\u001b[38;5;250;43m \u001b[39;49m\u001b[38;5;28;43;01mif\u001b[39;49;00m\u001b[38;5;250;43m \u001b[39;49m\u001b[43mi\u001b[49m\u001b[38;5;250;43m \u001b[39;49m\u001b[38;5;241;43m==\u001b[39;49m\u001b[38;5;250;43m \u001b[39;49m\u001b[38;5;241;43m1\u001b[39;49m\u001b[38;5;250;43m \u001b[39;49m\u001b[38;5;28;43;01melse\u001b[39;49;00m\u001b[38;5;250;43m \u001b[39;49m\u001b[38;5;124;43m'\u001b[39;49m\u001b[38;5;124;43mnd\u001b[39;49m\u001b[38;5;124;43m'\u001b[39;49m\u001b[38;5;250;43m \u001b[39;49m\u001b[38;5;28;43;01mif\u001b[39;49;00m\u001b[38;5;250;43m \u001b[39;49m\u001b[43mi\u001b[49m\u001b[38;5;250;43m \u001b[39;49m\u001b[38;5;241;43m==\u001b[39;49m\u001b[38;5;250;43m \u001b[39;49m\u001b[38;5;241;43m2\u001b[39;49m\u001b[38;5;250;43m \u001b[39;49m\u001b[38;5;28;43;01melse\u001b[39;49;00m\u001b[38;5;250;43m \u001b[39;49m\u001b[38;5;124;43m'\u001b[39;49m\u001b[38;5;124;43mrd\u001b[39;49m\u001b[38;5;124;43m'\u001b[39;49m\u001b[38;5;132;43;01m}\u001b[39;49;00m\u001b[38;5;124;43m favorite number: \u001b[39;49m\u001b[38;5;124;43m\"\u001b[39;49m\u001b[43m)\u001b[49m\u001b[43m)\u001b[49m\n\u001b[0;32m     11\u001b[0m     numbers\u001b[38;5;241m.\u001b[39mappend(number)\n\u001b[0;32m     13\u001b[0m \u001b[38;5;66;03m# Greet the user\u001b[39;00m\n",
      "\u001b[1;31mValueError\u001b[0m: invalid literal for int() with base 10: ''"
     ]
    }
   ],
   "source": [
    "# This file contains the solution of 7th assignment \n",
    "# Python Programming Assignment: Number Exploration Tool\n",
    "\n",
    "# Ask for the user's name\n",
    "name = input(\"Enter your name: \")\n",
    "    \n",
    "# Get three favorite numbers from the user\n",
    "numbers = []\n",
    "for i in range(1, 4):\n",
    "    number = int(input(f\"Enter your {i}{'st' if i == 1 else 'nd' if i == 2 else 'rd'} favorite number: \"))\n",
    "    numbers.append(number)\n",
    "    \n",
    "# Greet the user\n",
    "print(f\"\\nHello, {name}! Let's explore your favorite numbers:\\n\")\n",
    "\n",
    "# Create an empty list\n",
    "even_odd_info = []\n",
    "\n",
    "for num in numbers:\n",
    "    if num % 2 == 0:\n",
    "        even_odd_info.append((num, \"even\")) \n",
    "    else:\n",
    "        even_odd_info.append((num, \"odd\"))\n",
    "\n",
    "# Display the even/odd info\n",
    "for num, parity in even_odd_info:\n",
    "    print(f\"The number {num} is {parity}.\")\n",
    "\n",
    "# Print the number and its square\n",
    "print(\"\\nHere are your numbers and their squares:\")\n",
    "for num in numbers:\n",
    "    print(f\"The number {num} and its square: ({num}, {num**2})\")\n",
    "\n",
    "# Calculate the sum of the numbers\n",
    "total_sum = sum(numbers)\n",
    "print(f\"\\nAmazing! The sum of your favorite numbers is: {total_sum}\")\n",
    "    \n",
    "# Check if the sum is a prime number\n",
    "def is_prime(n):\n",
    "    if n <= 1:\n",
    "        return False\n",
    "    for i in range(2, int(n**0.5) + 1):\n",
    "        if n % i == 0:\n",
    "            return False\n",
    "    return True\n",
    "\n",
    "if is_prime(total_sum):\n",
    "    print(f\"Wow, {total_sum} is a prime number!\")\n",
    "else:\n",
    "    print(f\"{total_sum} is not a prime number, but it's still a great number!\")\n",
    "# This file contains the solution of 7th assignment \n",
    "# Python Programming Assignment: Number Exploration Tool\n",
    "\n",
    "# Ask for the user's name\n",
    "name = input(\"Enter your name: \")\n",
    "    \n",
    "# Get three favorite numbers from the user\n",
    "numbers = []\n",
    "for i in range(1, 4):\n",
    "    number = int(input(f\"Enter your {i}{'st' if i == 1 else 'nd' if i == 2 else 'rd'} favorite number: \"))\n",
    "    numbers.append(number)\n",
    "    \n",
    "# Greet the user\n",
    "print(f\"\\nHello, {name}! Let's explore your favorite numbers:\\n\")\n",
    "\n",
    "# Create an empty list\n",
    "even_odd_info = []\n",
    "\n",
    "for num in numbers:\n",
    "    if num % 2 == 0:\n",
    "        even_odd_info.append((num, \"even\")) \n",
    "    else:\n",
    "        even_odd_info.append((num, \"odd\"))\n",
    "\n",
    "# Display the even/odd info\n",
    "for num, parity in even_odd_info:\n",
    "    print(f\"The number {num} is {parity}.\")\n",
    "\n",
    "# Print the number and its square\n",
    "print(\"\\nHere are your numbers and their squares:\")\n",
    "for num in numbers:\n",
    "    print(f\"The number {num} and its square: ({num}, {num**2})\")\n",
    "\n",
    "# Calculate the sum of the numbers\n",
    "total_sum = sum(numbers)\n",
    "print(f\"\\nAmazing! The sum of your favorite numbers is: {total_sum}\")\n",
    "    \n",
    "# Check if the sum is a prime number\n",
    "def is_prime(n):\n",
    "    if n <= 1:\n",
    "        return False\n",
    "    for i in range(2, int(n**0.5) + 1):\n",
    "        if n % i == 0:\n",
    "            return False\n",
    "    return True\n",
    "\n",
    "if is_prime(total_sum):\n",
    "    print(f\"Wow, {total_sum} is a prime number!\")\n",
    "else:\n",
    "    print(f\"{total_sum} is not a prime number, but it's still a great number!\")\n"
   ]
  },
  {
   "cell_type": "code",
   "execution_count": 1,
   "metadata": {},
   "outputs": [
    {
     "name": "stdout",
     "output_type": "stream",
     "text": [
      "2\n",
      "3\n",
      "4\n",
      "5\n",
      "6\n",
      "7\n",
      "8\n",
      "9\n"
     ]
    }
   ],
   "source": [
    "# The Loops\n",
    "\n",
    "for x in range(2, 10):\n",
    "    print(x)"
   ]
  },
  {
   "cell_type": "code",
   "execution_count": 3,
   "metadata": {},
   "outputs": [],
   "source": [
    "# The dicts\n",
    "data_1 = {\n",
    "    'Name' : 'Wasif',\n",
    "    'Degree' : 'BSSE',\n",
    "    'Year' : '2022'}"
   ]
  },
  {
   "cell_type": "code",
   "execution_count": 4,
   "metadata": {},
   "outputs": [
    {
     "name": "stdout",
     "output_type": "stream",
     "text": [
      "Name\n",
      "Degree\n",
      "Year\n"
     ]
    }
   ],
   "source": [
    "for i in data_1:\n",
    "    print(i)"
   ]
  },
  {
   "cell_type": "code",
   "execution_count": 6,
   "metadata": {},
   "outputs": [
    {
     "data": {
      "text/plain": [
       "dict_items([('Name', 'Wasif'), ('Degree', 'BSSE'), ('Year', '2022')])"
      ]
     },
     "execution_count": 6,
     "metadata": {},
     "output_type": "execute_result"
    }
   ],
   "source": [
    "data_1.items()"
   ]
  },
  {
   "cell_type": "code",
   "execution_count": 8,
   "metadata": {},
   "outputs": [
    {
     "data": {
      "text/plain": [
       "('Name', 'Wasif')"
      ]
     },
     "execution_count": 8,
     "metadata": {},
     "output_type": "execute_result"
    }
   ],
   "source": [
    "list(data_1.items())[0]"
   ]
  },
  {
   "cell_type": "code",
   "execution_count": 11,
   "metadata": {},
   "outputs": [
    {
     "data": {
      "text/plain": [
       "'Wasif'"
      ]
     },
     "execution_count": 11,
     "metadata": {},
     "output_type": "execute_result"
    }
   ],
   "source": [
    "data_1[\"Name\"]"
   ]
  },
  {
   "cell_type": "code",
   "execution_count": 14,
   "metadata": {},
   "outputs": [
    {
     "name": "stdout",
     "output_type": "stream",
     "text": [
      "The key is Name and the value is Wasif\n",
      "The key is Degree and the value is BSSE\n",
      "The key is Year and the value is 2022\n"
     ]
    }
   ],
   "source": [
    "for x, y in data_1.items():\n",
    "    print(f\"The key is {x} and the value is {y}\")"
   ]
  },
  {
   "cell_type": "code",
   "execution_count": 22,
   "metadata": {},
   "outputs": [],
   "source": [
    "students = {\n",
    "    'Roll Numbers' : [111, 211, 311, 411, 511],\n",
    "    'Names' : ['Zeeshan', 'Ali', 'Hamza', 'Noman', 'Farhan'],\n",
    "    'Class' : ['4th', '5th', '6th', '7th', '8th']\n",
    "}"
   ]
  },
  {
   "cell_type": "code",
   "execution_count": 23,
   "metadata": {},
   "outputs": [
    {
     "data": {
      "text/plain": [
       "{'Roll Numbers': [111, 211, 311, 411, 511],\n",
       " 'Names': ['Zeeshan', 'Ali', 'Hamza', 'Noman', 'Farhan'],\n",
       " 'Class': ['4th', '5th', '6th', '7th', '8th']}"
      ]
     },
     "execution_count": 23,
     "metadata": {},
     "output_type": "execute_result"
    }
   ],
   "source": [
    "students"
   ]
  },
  {
   "cell_type": "code",
   "execution_count": 18,
   "metadata": {},
   "outputs": [
    {
     "data": {
      "text/plain": [
       "dict_items([('Roll Numbers', [1, 2, 3, 4, 5]), ('Names', ['Zeeshan', 'Ali', 'Hamza', 'Noman', 'Farhan']), ('Class', ['4th', '5th', '6th', '7th', '8th'])])"
      ]
     },
     "execution_count": 18,
     "metadata": {},
     "output_type": "execute_result"
    }
   ],
   "source": [
    "students.items()"
   ]
  },
  {
   "cell_type": "code",
   "execution_count": 20,
   "metadata": {},
   "outputs": [],
   "source": [
    "# for key, value in students:\n",
    "    # print(f\"The key:{key}___The Value:{value}\")"
   ]
  },
  {
   "cell_type": "code",
   "execution_count": 24,
   "metadata": {},
   "outputs": [
    {
     "name": "stdout",
     "output_type": "stream",
     "text": [
      "111\n",
      "211\n",
      "311\n",
      "411\n",
      "511\n"
     ]
    }
   ],
   "source": [
    "rollNum = students[\"Roll Numbers\"]\n",
    "for i in rollNum:\n",
    "    print(i)"
   ]
  },
  {
   "cell_type": "code",
   "execution_count": null,
   "metadata": {},
   "outputs": [],
   "source": [
    "rollNum = students[\"Roll Numbers\"]\n",
    "for i in rollNum:\n",
    "    print(i)"
   ]
  },
  {
   "cell_type": "code",
   "execution_count": null,
   "metadata": {},
   "outputs": [],
   "source": [
    "students = {\n",
    "    'Roll Numbers' : [111, 211, 311, 411, 511],\n",
    "    'Names' : ['Zeeshan', 'Ali', 'Hamza', 'Noman', 'Farhan'],\n",
    "    'Class' : ['4th', '5th', '6th', '7th', '8th']\n",
    "}"
   ]
  },
  {
   "cell_type": "code",
   "execution_count": 1,
   "metadata": {},
   "outputs": [
    {
     "ename": "ModuleNotFoundError",
     "evalue": "No module named 'openai'",
     "output_type": "error",
     "traceback": [
      "\u001b[1;31m---------------------------------------------------------------------------\u001b[0m",
      "\u001b[1;31mModuleNotFoundError\u001b[0m                       Traceback (most recent call last)",
      "Cell \u001b[1;32mIn[1], line 4\u001b[0m\n\u001b[0;32m      1\u001b[0m \u001b[38;5;66;03m#import gradio as gr\u001b[39;00m\n\u001b[0;32m      2\u001b[0m \u001b[38;5;28;01mimport\u001b[39;00m \u001b[38;5;21;01mos\u001b[39;00m\n\u001b[1;32m----> 4\u001b[0m \u001b[38;5;28;01mfrom\u001b[39;00m \u001b[38;5;21;01mopenai\u001b[39;00m \u001b[38;5;28;01mimport\u001b[39;00m OpenAI\n\u001b[0;32m      5\u001b[0m \u001b[38;5;28;01mfrom\u001b[39;00m \u001b[38;5;21;01mdotenv\u001b[39;00m \u001b[38;5;28;01mimport\u001b[39;00m load_dotenv\n\u001b[0;32m      6\u001b[0m \u001b[38;5;28;01mimport\u001b[39;00m \u001b[38;5;21;01mipywidgets\u001b[39;00m \u001b[38;5;28;01mas\u001b[39;00m \u001b[38;5;21;01mwidgets\u001b[39;00m\n",
      "\u001b[1;31mModuleNotFoundError\u001b[0m: No module named 'openai'"
     ]
    }
   ],
   "source": [
    "#import gradio as gr\n",
    "import os\n",
    "\n",
    "from openai import OpenAI\n",
    "from dotenv import load_dotenv\n",
    "import ipywidgets as widgets\n",
    "from IPython.display import display\n",
    "import io\n",
    "import csv\n",
    "\n",
    "# Get the OpenAI API key from the .env file\n",
    "load_dotenv('.env', override=True)\n",
    "openai_api_key = os.getenv('OPENAI_API_KEY')\n",
    "\n",
    "# Set up the OpenAI client\n",
    "client = OpenAI(api_key=openai_api_key)\n",
    "\n",
    "\n",
    "def read_csv_dict(csv_file_path):\n",
    "    \"\"\"This function takes a csv file and loads it as a dict.\"\"\"\n",
    "\n",
    "    # Initialize an empty list to store the data\n",
    "    data_list = []\n",
    "\n",
    "    # Open the CSV file\n",
    "    with open(csv_file_path, mode='r') as file:\n",
    "        # Create a CSV reader object\n",
    "        csv_reader = csv.DictReader(file)\n",
    "    \n",
    "        # Iterate over each row in the CSV file\n",
    "        for row in csv_reader:\n",
    "            # Append the row to the data list\n",
    "            data_list.append(row)\n",
    "\n",
    "    # Convert the list to a dictionary\n",
    "    data_dict = {i: data_list[i] for i in range(len(data_list))}\n",
    "    return data_dict\n",
    "\n",
    "\n",
    "def print_llm_response(prompt):\n",
    "    \"\"\"This function takes as input a prompt, which must be a string enclosed in quotation marks,\n",
    "    and passes it to OpenAI's GPT3.5 model. The function then prints the response of the model.\n",
    "    \"\"\"\n",
    "    try:\n",
    "        if not isinstance(prompt, str):\n",
    "            raise ValueError(\"Input must be a string enclosed in quotes.\")\n",
    "        completion = client.chat.completions.create(\n",
    "            model=\"gpt-4o-mini\",\n",
    "            messages=[\n",
    "                {\n",
    "                    \"role\": \"system\",\n",
    "                    \"content\": \"You are a helpful but terse AI assistant who gets straight to the point.\",\n",
    "                },\n",
    "                {\"role\": \"user\", \"content\": prompt},\n",
    "            ],\n",
    "            temperature=0.0,\n",
    "        )\n",
    "        response = completion.choices[0].message.content\n",
    "        print(response)\n",
    "    except TypeError as e:\n",
    "        print(\"Error:\", str(e))\n",
    "\n",
    "\n",
    "def get_llm_response(prompt):\n",
    "    \"\"\"This function takes as input a prompt, which must be a string enclosed in quotation marks,\n",
    "    and passes it to OpenAI's GPT3.5 model. The function then saves the response of the model as\n",
    "    a string.\n",
    "    \"\"\"\n",
    "    completion = client.chat.completions.create(\n",
    "        model=\"gpt-4o-mini\",\n",
    "        messages=[\n",
    "            {\n",
    "                \"role\": \"system\",\n",
    "                \"content\": \"You are a helpful but terse AI assistant who gets straight to the point.\",\n",
    "            },\n",
    "            {\"role\": \"user\", \"content\": prompt},\n",
    "        ],\n",
    "        temperature=0.0,\n",
    "    )\n",
    "    response = completion.choices[0].message.content\n",
    "    return response\n",
    "\n",
    "\n",
    "def upload_txt_file():\n",
    "    \"\"\"\n",
    "    Uploads a text file and saves it to the specified directory.\n",
    "    \n",
    "    Args:\n",
    "        directory (str): The directory where the uploaded file will be saved. \n",
    "        Defaults to the current working directory.\n",
    "    \"\"\"\n",
    "    # Create the file upload widget\n",
    "    upload_widget = widgets.FileUpload(\n",
    "        accept='.txt',  # Accept text files only\n",
    "        multiple=False  # Do not allow multiple uploads\n",
    "    )\n",
    "    # Impose file size limit\n",
    "    output = widgets.Output()\n",
    "    \n",
    "    # Function to handle file upload\n",
    "    def handle_upload(change):\n",
    "        with output:\n",
    "            output.clear_output()\n",
    "            # Read the file content\n",
    "            content = upload_widget.value[0]['content']\n",
    "            name = upload_widget.value[0]['name']\n",
    "            size_in_kb = len(content) / 1024\n",
    "            \n",
    "            if size_in_kb > 3:\n",
    "                print(f\"Your file is too large, please upload a file that doesn't exceed 3KB.\")\n",
    "                return\n",
    "\t\t    \n",
    "            # Save the file to the specified directory\n",
    "            with open(name, 'wb') as f:\n",
    "                f.write(content)\n",
    "            # Confirm the file has been saved\n",
    "            print(f\"The {name} file has been uploaded.\")\n",
    "\n",
    "    # Attach the file upload event to the handler function\n",
    "    upload_widget.observe(handle_upload, names='value')\n",
    "\n",
    "    display(upload_widget, output)\n",
    "\n",
    "def list_files_in_directory(directory='.'):\n",
    "    \"\"\"\n",
    "    Lists all non-hidden files in the specified directory.\n",
    "    \n",
    "    Args:\n",
    "        directory (str): The directory to list files from. Defaults to the current working directory.\n",
    "    \"\"\"\n",
    "    try:\n",
    "        files = [f for f in os.listdir(directory) if (not f.startswith('.') and not f.startswith('_'))]\n",
    "        for file in files:\n",
    "            print(file)\n",
    "    except Exception as e:\n",
    "        print(f\"An error occurred: {e}\")"
   ]
  }
 ],
 "metadata": {
  "kernelspec": {
   "display_name": "Python 3",
   "language": "python",
   "name": "python3"
  },
  "language_info": {
   "codemirror_mode": {
    "name": "ipython",
    "version": 3
   },
   "file_extension": ".py",
   "mimetype": "text/x-python",
   "name": "python",
   "nbconvert_exporter": "python",
   "pygments_lexer": "ipython3",
   "version": "3.12.5"
  }
 },
 "nbformat": 4,
 "nbformat_minor": 2
}
