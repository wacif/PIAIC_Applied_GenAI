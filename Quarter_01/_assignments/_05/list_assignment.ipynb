{
 "cells": [
  {
   "cell_type": "markdown",
   "metadata": {},
   "source": [
    "# **Python Exercises on Lists**"
   ]
  },
  {
   "cell_type": "markdown",
   "metadata": {},
   "source": [
    "### **Exercise 3-1: Names**\n",
    "● Task: Store the names of a few of your friends in a list called names. Print each person’s\n",
    "name by accessing each element in the list, one at a time."
   ]
  },
  {
   "cell_type": "code",
   "execution_count": 2,
   "metadata": {},
   "outputs": [
    {
     "name": "stdout",
     "output_type": "stream",
     "text": [
      "Ali\n",
      "Shoaib\n",
      "Zain\n",
      "Atif\n"
     ]
    }
   ],
   "source": [
    "names = [\"Ali\", \"Shoaib\", \"Zain\", \"Atif\"]\n",
    "for name in names:\n",
    "    print(name) "
   ]
  },
  {
   "cell_type": "markdown",
   "metadata": {},
   "source": [
    "### Exercise 3-2: Greetings\n",
    "● Task: Start with the list you used in Exercise 3-1. Instead of just printing each person’s\n",
    "name, print a message to them. The text of each message should be the same, but each\n",
    "message should be personalized with the person’s name."
   ]
  },
  {
   "cell_type": "code",
   "execution_count": 3,
   "metadata": {},
   "outputs": [
    {
     "name": "stdout",
     "output_type": "stream",
     "text": [
      "Hey Ali, How are you?\n",
      "Hey Shoaib, How are you?\n",
      "Hey Zain, How are you?\n",
      "Hey Atif, How are you?\n"
     ]
    }
   ],
   "source": [
    "for name in names:\n",
    "    print(f\"Hey {name}, How are you?\")"
   ]
  },
  {
   "cell_type": "markdown",
   "metadata": {},
   "source": [
    "### Exercise 3-3: Your Own List\n",
    "● Task: Think of your favorite mode of transportation, such as a motorcycle or a car, and\n",
    "make a list that stores several examples. Use your list to print a series of statements\n",
    "about these items, such as “I would like to own a Honda motorcycle.”"
   ]
  },
  {
   "cell_type": "code",
   "execution_count": 1,
   "metadata": {},
   "outputs": [
    {
     "name": "stdout",
     "output_type": "stream",
     "text": [
      "I would like to own a Suzuki-150\n",
      "I would like to own a Sports Bike\n",
      "I would like to own a Toyota Hybrid Car\n",
      "I would like to own a Tesla Electric Car\n"
     ]
    }
   ],
   "source": [
    "transport_modes = ['Suzuki-150', 'Sports Bike', 'Toyota Hybrid Car', 'Tesla Electric Car']\n",
    "for mode in transport_modes:\n",
    "    print(f\"I would like to own a {mode}\")"
   ]
  },
  {
   "cell_type": "markdown",
   "metadata": {},
   "source": [
    "### Exercise 3-4: Guest List\n",
    "● Task: If you could invite anyone, living or deceased, to dinner, who would you invite?\n",
    "Make a list that includes at least three people you’d like to invite to dinner. Then use your\n",
    "list to print a message to each person, inviting them to dinner."
   ]
  },
  {
   "cell_type": "code",
   "execution_count": 6,
   "metadata": {},
   "outputs": [
    {
     "name": "stdout",
     "output_type": "stream",
     "text": [
      "Hey Waqar, Join me for a warm evening of love, laughter, and delicious food!\n",
      "Hey Ahmad, Join me for a warm evening of love, laughter, and delicious food!\n",
      "Hey Nasir, Join me for a warm evening of love, laughter, and delicious food!\n"
     ]
    }
   ],
   "source": [
    "guest_list = ['Waqar', 'Ahmad', 'Nasir']\n",
    "for name in guest_list:\n",
    "    messsage = f\"Hey {name}, Join me for a warm evening of love, laughter, and delicious food!\"\n",
    "    print(messsage)\n"
   ]
  },
  {
   "cell_type": "markdown",
   "metadata": {},
   "source": [
    "### Exercise 3-5: Changing Guest List\n",
    "● Task: Start with your program from Exercise 3-4. Add a print() call at the end of your\n",
    "program, stating the name of the guest who can’t make it. Modify your list, replacing the\n",
    "name of the guest who can’t make it with the name of the new person you are inviting.\n",
    "Print a second set of invitation messages, one for each person who is still in your list."
   ]
  },
  {
   "cell_type": "code",
   "execution_count": 7,
   "metadata": {},
   "outputs": [
    {
     "name": "stdout",
     "output_type": "stream",
     "text": [
      "Waqar was busy.\n",
      "Invitation to the new guests.\n",
      "Hey Hamza, Join me for a warm evening of love, laughter, and delicious food!\n",
      "Hey Ahmad, Join me for a warm evening of love, laughter, and delicious food!\n",
      "Hey Nasir, Join me for a warm evening of love, laughter, and delicious food!\n"
     ]
    }
   ],
   "source": [
    "guest_list = ['Waqar', 'Ahmad', 'Nasir']\n",
    "\n",
    "# the person who,s not comming \n",
    "print(f\"{guest_list[0]} was busy.\")\n",
    "\n",
    "# replacing the guest\n",
    "guest_list[0] = 'Hamza'\n",
    "\n",
    "# new invitation\n",
    "print(\"Invitation to the new guests.\")\n",
    "for name in guest_list:\n",
    "    messsage = f\"Hey {name}, Join me for a warm evening of love, laughter, and delicious food!\"\n",
    "    print(messsage)\n"
   ]
  },
  {
   "cell_type": "markdown",
   "metadata": {},
   "source": [
    "### Exercise 3-6: More Guests\n",
    "● Task: Start with your program from Exercise 3-4 or 3-5. Add a print() call to the end\n",
    "of your program, informing people that you found a bigger table. Use insert() to add\n",
    "one new guest to the beginning of your list. Use insert() to add one new guest to the\n",
    "middle of your list. Use append() to add one new guest to the end of your list. Print a\n",
    "new set of invitation messages, one for each person in your list."
   ]
  },
  {
   "cell_type": "code",
   "execution_count": null,
   "metadata": {},
   "outputs": [],
   "source": []
  }
 ],
 "metadata": {
  "kernelspec": {
   "display_name": "Python 3",
   "language": "python",
   "name": "python3"
  },
  "language_info": {
   "codemirror_mode": {
    "name": "ipython",
    "version": 3
   },
   "file_extension": ".py",
   "mimetype": "text/x-python",
   "name": "python",
   "nbconvert_exporter": "python",
   "pygments_lexer": "ipython3",
   "version": "3.11.5"
  }
 },
 "nbformat": 4,
 "nbformat_minor": 2
}
