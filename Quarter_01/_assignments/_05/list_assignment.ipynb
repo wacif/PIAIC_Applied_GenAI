{
 "cells": [
  {
   "cell_type": "markdown",
   "metadata": {},
   "source": [
    "# **Python Exercises on Lists**"
   ]
  },
  {
   "cell_type": "markdown",
   "metadata": {},
   "source": [
    "### **Exercise 3-1: Names**\n",
    "● Task: Store the names of a few of your friends in a list called names. Print each person’s\n",
    "name by accessing each element in the list, one at a time."
   ]
  },
  {
   "cell_type": "code",
   "execution_count": 3,
   "metadata": {},
   "outputs": [
    {
     "name": "stdout",
     "output_type": "stream",
     "text": [
      "Ali\n",
      "Shoaib\n",
      "Zain\n",
      "Atif\n"
     ]
    }
   ],
   "source": [
    "names = [\"Ali\", \"Shoaib\", \"Zain\", \"Atif\"]\n",
    "for name in names:\n",
    "    print(name) "
   ]
  },
  {
   "cell_type": "markdown",
   "metadata": {},
   "source": [
    "### Exercise 3-2: Greetings\n",
    "● Task: Start with the list you used in Exercise 3-1. Instead of just printing each person’s\n",
    "name, print a message to them. The text of each message should be the same, but each\n",
    "message should be personalized with the person’s name."
   ]
  },
  {
   "cell_type": "code",
   "execution_count": 4,
   "metadata": {},
   "outputs": [
    {
     "name": "stdout",
     "output_type": "stream",
     "text": [
      "Hey Ali, How are you?\n",
      "Hey Shoaib, How are you?\n",
      "Hey Zain, How are you?\n",
      "Hey Atif, How are you?\n"
     ]
    }
   ],
   "source": [
    "for name in names:\n",
    "    print(f\"Hey {name}, How are you?\")"
   ]
  },
  {
   "cell_type": "markdown",
   "metadata": {},
   "source": [
    "### Exercise 3-3: Your Own List\n",
    "● Task: Think of your favorite mode of transportation, such as a motorcycle or a car, and\n",
    "make a list that stores several examples. Use your list to print a series of statements\n",
    "about these items, such as “I would like to own a Honda motorcycle.”"
   ]
  },
  {
   "cell_type": "code",
   "execution_count": 1,
   "metadata": {},
   "outputs": [
    {
     "name": "stdout",
     "output_type": "stream",
     "text": [
      "I would like to own a Suzuki-150\n",
      "I would like to own a Sports Bike\n",
      "I would like to own a Toyota Hybrid Car\n",
      "I would like to own a Tesla Electric Car\n"
     ]
    }
   ],
   "source": [
    "transport_modes = ['Suzuki-150', 'Sports Bike', 'Toyota Hybrid Car', 'Tesla Electric Car']\n",
    "for mode in transport_modes:\n",
    "    print(f\"I would like to own a {mode}\")"
   ]
  },
  {
   "cell_type": "markdown",
   "metadata": {},
   "source": [
    "### Exercise 3-4: Guest List\n",
    "● Task: If you could invite anyone, living or deceased, to dinner, who would you invite?\n",
    "Make a list that includes at least three people you’d like to invite to dinner. Then use your\n",
    "list to print a message to each person, inviting them to dinner."
   ]
  },
  {
   "cell_type": "code",
   "execution_count": 6,
   "metadata": {},
   "outputs": [
    {
     "name": "stdout",
     "output_type": "stream",
     "text": [
      "Hey Waqar, Join me for a warm evening of love, laughter, and delicious food!\n",
      "Hey Ahmad, Join me for a warm evening of love, laughter, and delicious food!\n",
      "Hey Nasir, Join me for a warm evening of love, laughter, and delicious food!\n"
     ]
    }
   ],
   "source": [
    "guest_list = ['Waqar', 'Ahmad', 'Nasir']\n",
    "for name in guest_list:\n",
    "    messsage = f\"Hey {name}, Join me for a warm evening of love, laughter, and delicious food!\"\n",
    "    print(messsage)\n"
   ]
  },
  {
   "cell_type": "markdown",
   "metadata": {},
   "source": [
    "### Exercise 3-5: Changing Guest List\n",
    "● Task: Start with your program from Exercise 3-4. Add a print() call at the end of your\n",
    "program, stating the name of the guest who can’t make it. Modify your list, replacing the\n",
    "name of the guest who can’t make it with the name of the new person you are inviting.\n",
    "Print a second set of invitation messages, one for each person who is still in your list."
   ]
  },
  {
   "cell_type": "code",
   "execution_count": 20,
   "metadata": {},
   "outputs": [
    {
     "name": "stdout",
     "output_type": "stream",
     "text": [
      "Waqar was busy.\n",
      "Invitation to the new guests.\n",
      "Hey Hamza, Join me for a warm evening of love, laughter, and delicious food!\n",
      "Hey Ahmad, Join me for a warm evening of love, laughter, and delicious food!\n",
      "Hey Nasir, Join me for a warm evening of love, laughter, and delicious food!\n"
     ]
    }
   ],
   "source": [
    "guest_list = ['Waqar', 'Ahmad', 'Nasir']\n",
    "\n",
    "# the person who,s not comming \n",
    "print(f\"{guest_list[0]} was busy.\")\n",
    "\n",
    "# replacing the guest\n",
    "guest_list[0] = 'Hamza'\n",
    "\n",
    "# new invitation\n",
    "print(\"Invitation to the new guests.\")\n",
    "for name in guest_list:\n",
    "    messsage = f\"Hey {name}, Join me for a warm evening of love, laughter, and delicious food!\"\n",
    "    print(messsage)\n"
   ]
  },
  {
   "cell_type": "markdown",
   "metadata": {},
   "source": [
    "### Exercise 3-6: More Guests\n",
    "● Task: Start with your program from Exercise 3-4 or 3-5. Add a print() call to the end\n",
    "of your program, informing people that you found a bigger table. Use insert() to add\n",
    "one new guest to the beginning of your list. Use insert() to add one new guest to the\n",
    "middle of your list. Use append() to add one new guest to the end of your list. Print a\n",
    "new set of invitation messages, one for each person in your list."
   ]
  },
  {
   "cell_type": "code",
   "execution_count": 6,
   "metadata": {},
   "outputs": [
    {
     "name": "stdout",
     "output_type": "stream",
     "text": [
      "Hey Waqar,\n",
      "Hey Ahmad,\n",
      "Hey Nasir,\n",
      "We found a bigger table.\n",
      "\n",
      "\n",
      "Hey Atif, Join me for a warm evening of love, laughter, and delicious food!\n",
      "Hey Waqar, Join me for a warm evening of love, laughter, and delicious food!\n",
      "Hey Shoaib, Join me for a warm evening of love, laughter, and delicious food!\n",
      "Hey Ahmad, Join me for a warm evening of love, laughter, and delicious food!\n",
      "Hey Nasir, Join me for a warm evening of love, laughter, and delicious food!\n",
      "Hey Usama, Join me for a warm evening of love, laughter, and delicious food!\n"
     ]
    }
   ],
   "source": [
    "# informing them about bigger table\n",
    "guest_list = ['Waqar', 'Ahmad', 'Nasir']\n",
    "for guest in guest_list:\n",
    "    print(f\"Hey {guest},\")\n",
    "print(\"We found a bigger table.\\n\\n\")\n",
    "\n",
    "# adding new guest to the begninning\n",
    "if \"Atif\" not in guest_list:\n",
    "    guest_list.insert(0, \"Atif\")\n",
    "\n",
    "# adding guest to the middle \n",
    "if \"Shoaib\" not in guest_list:\n",
    "    guest_list.insert(2, \"Shoaib\")\n",
    "\n",
    "# adding guest to the end \n",
    "if \"Usama\" not in guest_list:\n",
    "    guest_list.append(\"Usama\")\n",
    "\n",
    "# new set of invitations\n",
    "for name in guest_list:\n",
    "    messsage = f\"Hey {name}, Join me for a warm evening of love, laughter, and delicious food!\"\n",
    "    print(messsage)"
   ]
  },
  {
   "cell_type": "markdown",
   "metadata": {},
   "source": [
    "### Exercise 3-7: Shrinking Guest List\n",
    "● Task: Start with your program from Exercise 3-6. Add a new line that prints a message\n",
    "saying that you can invite only two people for dinner. Use pop() to remove guests from\n",
    "your list one at a time until only two names remain in your list. Each time you pop a\n",
    "name from your list, print a message to that person letting them know you’re sorry you\n",
    "can’t invite them to dinner. Print a message to each of the two people still on your list,\n",
    "letting them know they’re still invited. Use del to remove the last two names from your\n",
    "list, so you have an empty list. Print your list to make sure you actually have an empty\n",
    "list at the end of your program."
   ]
  },
  {
   "cell_type": "code",
   "execution_count": 13,
   "metadata": {},
   "outputs": [
    {
     "name": "stdout",
     "output_type": "stream",
     "text": [
      "Hey Atif,\n",
      "Hey Waqar,\n",
      "Hey Shoaib,\n",
      "Hey Ahmad,\n",
      "Hey Nasir,\n",
      "Hey Usama,\n",
      "Sorry guys we only permissioned two persons.\n",
      "\n",
      "\n",
      "Hey Atif,\n",
      "Hey Waqar,\n",
      "You guys are still invited.\n",
      "\n",
      "\n",
      "There are 0 remamining guest in the list.\n"
     ]
    }
   ],
   "source": [
    "guest_list = ['Atif', 'Waqar', 'Shoaib', 'Ahmad', 'Nasir', 'Usama']\n",
    "for name in guest_list:\n",
    "    print(f\"Hey {name},\")\n",
    "print(\"Sorry guys we only permissioned two persons.\\n\\n\")\n",
    "\n",
    "# deleting the guest from the list\n",
    "while len(guest_list) > 2:\n",
    "    guest_list.pop()\n",
    "\n",
    "for name in guest_list:\n",
    "    print(f\"Hey {name},\")\n",
    "print(\"You guys are still invited.\\n\\n\")\n",
    "\n",
    "# deleting the remaining guests form the list by using the \"del\"\n",
    "del guest_list[0]\n",
    "del guest_list[0]\n",
    "print(f\"There are {len(guest_list)} remamining guest in the list.\")"
   ]
  },
  {
   "cell_type": "markdown",
   "metadata": {},
   "source": [
    "### Exercise 3-8: Seeing the World\n",
    "● Task: Think of at least five places in the world you’d like to visit. Store the locations in a\n",
    "list. Make sure the list is not in alphabetical order. Print your list in its original order. Don’t\n",
    "worry about printing the list neatly; just print it as a raw Python list. Use sorted() to\n",
    "print your list in alphabetical order without modifying the actual list. Show that your list is\n",
    "still in its original order by printing it. Use sorted() to print your list in\n",
    "reverse-alphabetical order without changing the order of the original list. Show that your\n",
    "list is still in its original order by printing it again. Use reverse() to change the order of\n",
    "your list. Print the list to show that its order has changed. Use reverse() to change the\n",
    "order of your list again. Print the list to show it’s back to its original order. Use sort() to\n",
    "change your list so it’s stored in alphabetical order. Print the list to show that its order\n",
    "has been changed. Use sort() to change your list so it’s stored in reverse-alphabetical\n",
    "order. Print the list to show that its order has changed."
   ]
  },
  {
   "cell_type": "code",
   "execution_count": 24,
   "metadata": {},
   "outputs": [
    {
     "name": "stdout",
     "output_type": "stream",
     "text": [
      "Original order:\n",
      "['Turkey', 'Thandiani Top', 'Kashmir', 'Chitral', 'Balochistan']\n",
      "\n",
      "Alphabetical order:\n",
      "['Balochistan', 'Chitral', 'Kashmir', 'Thandiani Top', 'Turkey']\n",
      "\n",
      "Still in original order:\n",
      "['Turkey', 'Thandiani Top', 'Kashmir', 'Chitral', 'Balochistan']\n",
      "\n",
      "Reverse alphabetical order:\n",
      "['Turkey', 'Thandiani Top', 'Kashmir', 'Chitral', 'Balochistan']\n",
      "\n",
      "Still in original order:\n",
      "['Turkey', 'Thandiani Top', 'Kashmir', 'Chitral', 'Balochistan']\n",
      "\n",
      "Reversed order:\n",
      "['Balochistan', 'Chitral', 'Kashmir', 'Thandiani Top', 'Turkey']\n",
      "\n",
      "Back to original order:\n",
      "['Turkey', 'Thandiani Top', 'Kashmir', 'Chitral', 'Balochistan']\n",
      "\n",
      "Alphabetical order (sorted):\n",
      "['Balochistan', 'Chitral', 'Kashmir', 'Thandiani Top', 'Turkey']\n",
      "\n",
      "Reverse alphabetical order (sorted):\n",
      "['Turkey', 'Thandiani Top', 'Kashmir', 'Chitral', 'Balochistan']\n"
     ]
    }
   ],
   "source": [
    "places = [\"Turkey\", \"Thandiani Top\", \"Kashmir\", \"Chitral\", \"Balochistan\"]\n",
    "\n",
    "print(\"Original order:\")\n",
    "print(places)\n",
    "\n",
    "print(\"\\nAlphabetical order:\")\n",
    "print(sorted(places))\n",
    "\n",
    "print(\"\\nStill in original order:\")\n",
    "print(places)\n",
    "\n",
    "print(\"\\nReverse alphabetical order:\")\n",
    "print(sorted(places, reverse=True))\n",
    "\n",
    "print(\"\\nStill in original order:\")\n",
    "print(places)\n",
    "\n",
    "print(\"\\nReversed order:\")\n",
    "places.reverse()\n",
    "print(places)\n",
    "\n",
    "print(\"\\nBack to original order:\")\n",
    "places.reverse()\n",
    "print(places)\n",
    "\n",
    "print(\"\\nAlphabetical order (sorted):\")\n",
    "places.sort()\n",
    "print(places)\n",
    "\n",
    "print(\"\\nReverse alphabetical order (sorted):\")\n",
    "places.sort(reverse=True)\n",
    "print(places)\n"
   ]
  },
  {
   "cell_type": "markdown",
   "metadata": {},
   "source": [
    "### Exercise 3-9: Every Function\n",
    "● Task: Think of things you could store in a list. For example, you could make a list of\n",
    "mountains, rivers, countries, cities, languages, or anything else you’d like. Write a\n",
    "program that creates a list containing these items and then uses each function\n",
    "introduced in this chapter at least once."
   ]
  },
  {
   "cell_type": "code",
   "execution_count": 1,
   "metadata": {},
   "outputs": [
    {
     "name": "stdout",
     "output_type": "stream",
     "text": [
      "Python\n",
      "Ruby\n",
      "['Python', 'JavaScript', 'C++', 'Java', 'Ruby', 'Go']\n",
      "['Python', 'JavaScript', 'Swift', 'C++', 'Java', 'Ruby', 'Go']\n",
      "['Python', 'JavaScript', 'Swift', 'Java', 'Ruby', 'Go']\n",
      "['Python', 'JavaScript', 'Swift', 'Java', 'Ruby']\n",
      "Popped language: Go\n",
      "['Python', 'JavaScript', 'Java', 'Ruby']\n",
      "['Java', 'JavaScript', 'Python', 'Ruby']\n",
      "['Ruby', 'Python', 'JavaScript', 'Java']\n",
      "['Java', 'JavaScript', 'Python', 'Ruby']\n",
      "['Java', 'JavaScript', 'Python', 'Ruby']\n",
      "4\n"
     ]
    }
   ],
   "source": [
    "languages = ['Python', 'JavaScript', 'C++', 'Java', 'Ruby']\n",
    "\n",
    "print(languages[0])  # Accessing element\n",
    "print(languages[-1])  # Accessing the last element\n",
    "\n",
    "languages.append('Go')\n",
    "print(languages)\n",
    "\n",
    "languages.insert(2, 'Swift')\n",
    "print(languages)\n",
    "\n",
    "del languages[3]\n",
    "print(languages)\n",
    "\n",
    "popped_language = languages.pop()\n",
    "print(languages)\n",
    "print(f\"Popped language: {popped_language}\")\n",
    "\n",
    "languages.remove('Swift')\n",
    "print(languages)\n",
    "\n",
    "languages.sort()\n",
    "print(languages)\n",
    "\n",
    "languages.sort(reverse=True)\n",
    "print(languages)\n",
    "\n",
    "print(sorted(languages))\n",
    "languages.reverse()\n",
    "print(languages)\n",
    "\n",
    "print(len(languages))\n"
   ]
  },
  {
   "cell_type": "markdown",
   "metadata": {},
   "source": [
    "### Exercise 3-10: Intentional Error\n",
    "● Task: If you haven’t received an index error in one of your programs yet, try to make one\n",
    "happen. Change an index in one of your programs to produce an index error. Make sure\n",
    "you correct the error before closing the program."
   ]
  },
  {
   "cell_type": "code",
   "execution_count": 2,
   "metadata": {},
   "outputs": [
    {
     "name": "stdout",
     "output_type": "stream",
     "text": [
      "TWO\n"
     ]
    }
   ],
   "source": [
    "test_list = ['ONE', 'TWO', 'THREE', 'FOUR']\n",
    "# print(test_list[6]) # this will give an index error because the len of the list is 4\n",
    "print(test_list[1]) # corrected code \n"
   ]
  },
  {
   "cell_type": "code",
   "execution_count": null,
   "metadata": {},
   "outputs": [],
   "source": [
    "test_list = ['ONE', 'TWO', 'THREE', 'FOUR']\n",
    "# print(test_list[6]) # this will give an index error because the len of the list is 4\n",
    "print(test_list[1]) # corrected code "
   ]
  }
 ],
 "metadata": {
  "kernelspec": {
   "display_name": "Python 3",
   "language": "python",
   "name": "python3"
  },
  "language_info": {
   "codemirror_mode": {
    "name": "ipython",
    "version": 3
   },
   "file_extension": ".py",
   "mimetype": "text/x-python",
   "name": "python",
   "nbconvert_exporter": "python",
   "pygments_lexer": "ipython3",
   "version": "3.11.5"
  }
 },
 "nbformat": 4,
 "nbformat_minor": 2
}
