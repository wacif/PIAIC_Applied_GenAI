{
 "cells": [
  {
   "cell_type": "code",
   "execution_count": 3,
   "metadata": {},
   "outputs": [
    {
     "name": "stdout",
     "output_type": "stream",
     "text": [
      "<class 'tuple'>\n"
     ]
    }
   ],
   "source": [
    "thisistuple = (\"value1\",)\n",
    "print(type(thisistuple))"
   ]
  },
  {
   "cell_type": "code",
   "execution_count": 4,
   "metadata": {},
   "outputs": [
    {
     "name": "stdout",
     "output_type": "stream",
     "text": [
      "<class 'str'>\n"
     ]
    }
   ],
   "source": [
    "thisisstring = (\"value2\")\n",
    "print(type(thisisstring))"
   ]
  },
  {
   "cell_type": "code",
   "execution_count": null,
   "metadata": {},
   "outputs": [],
   "source": [
    "thisisstring = (\"value2\")\n",
    "print(type(thisisstring))\n"
   ]
  },
  {
   "cell_type": "code",
   "execution_count": null,
   "metadata": {},
   "outputs": [],
   "source": [
    "# This file contains the solution of 7th assignment \n",
    "# Python Programming Assignment: Number Exploration Tool\n",
    "\n",
    "# Ask for the user's name\n",
    "name = input(\"Enter your name: \")\n",
    "    \n",
    "# Get three favorite numbers from the user\n",
    "numbers = []\n",
    "for i in range(1, 4):\n",
    "    number = int(input(f\"Enter your {i}{'st' if i == 1 else 'nd' if i == 2 else 'rd'} favorite number: \"))\n",
    "    numbers.append(number)\n",
    "    \n",
    "# Greet the user\n",
    "print(f\"\\nHello, {name}! Let's explore your favorite numbers:\\n\")\n",
    "\n",
    "# Create an empty list\n",
    "even_odd_info = []\n",
    "\n",
    "for num in numbers:\n",
    "    if num % 2 == 0:\n",
    "        even_odd_info.append((num, \"even\")) \n",
    "    else:\n",
    "        even_odd_info.append((num, \"odd\"))\n",
    "\n",
    "# Display the even/odd info\n",
    "for num, parity in even_odd_info:\n",
    "    print(f\"The number {num} is {parity}.\")\n",
    "\n",
    "# Print the number and its square\n",
    "print(\"\\nHere are your numbers and their squares:\")\n",
    "for num in numbers:\n",
    "    print(f\"The number {num} and its square: ({num}, {num**2})\")\n",
    "\n",
    "# Calculate the sum of the numbers\n",
    "total_sum = sum(numbers)\n",
    "print(f\"\\nAmazing! The sum of your favorite numbers is: {total_sum}\")\n",
    "    \n",
    "# Check if the sum is a prime number\n",
    "def is_prime(n):\n",
    "    if n <= 1:\n",
    "        return False\n",
    "    for i in range(2, int(n**0.5) + 1):\n",
    "        if n % i == 0:\n",
    "            return False\n",
    "    return True\n",
    "\n",
    "if is_prime(total_sum):\n",
    "    print(f\"Wow, {total_sum} is a prime number!\")\n",
    "else:\n",
    "    print(f\"{total_sum} is not a prime number, but it's still a great number!\")\n",
    "# This file contains the solution of 7th assignment \n",
    "# Python Programming Assignment: Number Exploration Tool\n",
    "\n",
    "# Ask for the user's name\n",
    "name = input(\"Enter your name: \")\n",
    "    \n",
    "# Get three favorite numbers from the user\n",
    "numbers = []\n",
    "for i in range(1, 4):\n",
    "    number = int(input(f\"Enter your {i}{'st' if i == 1 else 'nd' if i == 2 else 'rd'} favorite number: \"))\n",
    "    numbers.append(number)\n",
    "    \n",
    "# Greet the user\n",
    "print(f\"\\nHello, {name}! Let's explore your favorite numbers:\\n\")\n",
    "\n",
    "# Create an empty list\n",
    "even_odd_info = []\n",
    "\n",
    "for num in numbers:\n",
    "    if num % 2 == 0:\n",
    "        even_odd_info.append((num, \"even\")) \n",
    "    else:\n",
    "        even_odd_info.append((num, \"odd\"))\n",
    "\n",
    "# Display the even/odd info\n",
    "for num, parity in even_odd_info:\n",
    "    print(f\"The number {num} is {parity}.\")\n",
    "\n",
    "# Print the number and its square\n",
    "print(\"\\nHere are your numbers and their squares:\")\n",
    "for num in numbers:\n",
    "    print(f\"The number {num} and its square: ({num}, {num**2})\")\n",
    "\n",
    "# Calculate the sum of the numbers\n",
    "total_sum = sum(numbers)\n",
    "print(f\"\\nAmazing! The sum of your favorite numbers is: {total_sum}\")\n",
    "    \n",
    "# Check if the sum is a prime number\n",
    "def is_prime(n):\n",
    "    if n <= 1:\n",
    "        return False\n",
    "    for i in range(2, int(n**0.5) + 1):\n",
    "        if n % i == 0:\n",
    "            return False\n",
    "    return True\n",
    "\n",
    "if is_prime(total_sum):\n",
    "    print(f\"Wow, {total_sum} is a prime number!\")\n",
    "else:\n",
    "    print(f\"{total_sum} is not a prime number, but it's still a great number!\")\n"
   ]
  },
  {
   "cell_type": "code",
   "execution_count": 1,
   "metadata": {},
   "outputs": [
    {
     "name": "stdout",
     "output_type": "stream",
     "text": [
      "2\n",
      "3\n",
      "4\n",
      "5\n",
      "6\n",
      "7\n",
      "8\n",
      "9\n"
     ]
    }
   ],
   "source": [
    "# The Loops\n",
    "\n",
    "for x in range(2, 10):\n",
    "    print(x)"
   ]
  },
  {
   "cell_type": "code",
   "execution_count": null,
   "metadata": {},
   "outputs": [],
   "source": [
    "# The dicts\n",
    "data_1 = {\n",
    "    'Name' : 'Wasif',\n",
    "    'Degree' : 'BSSE',\n",
    "    'Year' : '2022'}"
   ]
  }
 ],
 "metadata": {
  "kernelspec": {
   "display_name": "Python 3",
   "language": "python",
   "name": "python3"
  },
  "language_info": {
   "codemirror_mode": {
    "name": "ipython",
    "version": 3
   },
   "file_extension": ".py",
   "mimetype": "text/x-python",
   "name": "python",
   "nbconvert_exporter": "python",
   "pygments_lexer": "ipython3",
   "version": "3.12.5"
  }
 },
 "nbformat": 4,
 "nbformat_minor": 2
}
