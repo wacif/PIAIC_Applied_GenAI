{
 "cells": [
  {
   "cell_type": "code",
   "execution_count": 3,
   "metadata": {},
   "outputs": [
    {
     "name": "stdout",
     "output_type": "stream",
     "text": [
      "<class 'tuple'>\n"
     ]
    }
   ],
   "source": [
    "thisistuple = (\"value1\",)\n",
    "print(type(thisistuple))"
   ]
  },
  {
   "cell_type": "code",
   "execution_count": 4,
   "metadata": {},
   "outputs": [
    {
     "name": "stdout",
     "output_type": "stream",
     "text": [
      "<class 'str'>\n"
     ]
    }
   ],
   "source": [
    "thisisstring = (\"value2\")\n",
    "print(type(thisisstring))"
   ]
  },
  {
   "cell_type": "code",
   "execution_count": null,
   "metadata": {},
   "outputs": [],
   "source": [
    "thisisstring = (\"value2\")\n",
    "print(type(thisisstring))\n"
   ]
  },
  {
   "cell_type": "code",
   "execution_count": 9,
   "metadata": {},
   "outputs": [
    {
     "ename": "ValueError",
     "evalue": "invalid literal for int() with base 10: ''",
     "output_type": "error",
     "traceback": [
      "\u001b[1;31m---------------------------------------------------------------------------\u001b[0m",
      "\u001b[1;31mValueError\u001b[0m                                Traceback (most recent call last)",
      "Cell \u001b[1;32mIn[9], line 10\u001b[0m\n\u001b[0;32m      8\u001b[0m numbers \u001b[38;5;241m=\u001b[39m []\n\u001b[0;32m      9\u001b[0m \u001b[38;5;28;01mfor\u001b[39;00m i \u001b[38;5;129;01min\u001b[39;00m \u001b[38;5;28mrange\u001b[39m(\u001b[38;5;241m1\u001b[39m, \u001b[38;5;241m4\u001b[39m):\n\u001b[1;32m---> 10\u001b[0m     number \u001b[38;5;241m=\u001b[39m \u001b[38;5;28;43mint\u001b[39;49m\u001b[43m(\u001b[49m\u001b[38;5;28;43minput\u001b[39;49m\u001b[43m(\u001b[49m\u001b[38;5;124;43mf\u001b[39;49m\u001b[38;5;124;43m\"\u001b[39;49m\u001b[38;5;124;43mEnter your \u001b[39;49m\u001b[38;5;132;43;01m{\u001b[39;49;00m\u001b[43mi\u001b[49m\u001b[38;5;132;43;01m}\u001b[39;49;00m\u001b[38;5;132;43;01m{\u001b[39;49;00m\u001b[38;5;124;43m'\u001b[39;49m\u001b[38;5;124;43mst\u001b[39;49m\u001b[38;5;124;43m'\u001b[39;49m\u001b[38;5;250;43m \u001b[39;49m\u001b[38;5;28;43;01mif\u001b[39;49;00m\u001b[38;5;250;43m \u001b[39;49m\u001b[43mi\u001b[49m\u001b[38;5;250;43m \u001b[39;49m\u001b[38;5;241;43m==\u001b[39;49m\u001b[38;5;250;43m \u001b[39;49m\u001b[38;5;241;43m1\u001b[39;49m\u001b[38;5;250;43m \u001b[39;49m\u001b[38;5;28;43;01melse\u001b[39;49;00m\u001b[38;5;250;43m \u001b[39;49m\u001b[38;5;124;43m'\u001b[39;49m\u001b[38;5;124;43mnd\u001b[39;49m\u001b[38;5;124;43m'\u001b[39;49m\u001b[38;5;250;43m \u001b[39;49m\u001b[38;5;28;43;01mif\u001b[39;49;00m\u001b[38;5;250;43m \u001b[39;49m\u001b[43mi\u001b[49m\u001b[38;5;250;43m \u001b[39;49m\u001b[38;5;241;43m==\u001b[39;49m\u001b[38;5;250;43m \u001b[39;49m\u001b[38;5;241;43m2\u001b[39;49m\u001b[38;5;250;43m \u001b[39;49m\u001b[38;5;28;43;01melse\u001b[39;49;00m\u001b[38;5;250;43m \u001b[39;49m\u001b[38;5;124;43m'\u001b[39;49m\u001b[38;5;124;43mrd\u001b[39;49m\u001b[38;5;124;43m'\u001b[39;49m\u001b[38;5;132;43;01m}\u001b[39;49;00m\u001b[38;5;124;43m favorite number: \u001b[39;49m\u001b[38;5;124;43m\"\u001b[39;49m\u001b[43m)\u001b[49m\u001b[43m)\u001b[49m\n\u001b[0;32m     11\u001b[0m     numbers\u001b[38;5;241m.\u001b[39mappend(number)\n\u001b[0;32m     13\u001b[0m \u001b[38;5;66;03m# Greet the user\u001b[39;00m\n",
      "\u001b[1;31mValueError\u001b[0m: invalid literal for int() with base 10: ''"
     ]
    }
   ],
   "source": [
    "# This file contains the solution of 7th assignment \n",
    "# Python Programming Assignment: Number Exploration Tool\n",
    "\n",
    "# Ask for the user's name\n",
    "name = input(\"Enter your name: \")\n",
    "    \n",
    "# Get three favorite numbers from the user\n",
    "numbers = []\n",
    "for i in range(1, 4):\n",
    "    number = int(input(f\"Enter your {i}{'st' if i == 1 else 'nd' if i == 2 else 'rd'} favorite number: \"))\n",
    "    numbers.append(number)\n",
    "    \n",
    "# Greet the user\n",
    "print(f\"\\nHello, {name}! Let's explore your favorite numbers:\\n\")\n",
    "\n",
    "# Create an empty list\n",
    "even_odd_info = []\n",
    "\n",
    "for num in numbers:\n",
    "    if num % 2 == 0:\n",
    "        even_odd_info.append((num, \"even\")) \n",
    "    else:\n",
    "        even_odd_info.append((num, \"odd\"))\n",
    "\n",
    "# Display the even/odd info\n",
    "for num, parity in even_odd_info:\n",
    "    print(f\"The number {num} is {parity}.\")\n",
    "\n",
    "# Print the number and its square\n",
    "print(\"\\nHere are your numbers and their squares:\")\n",
    "for num in numbers:\n",
    "    print(f\"The number {num} and its square: ({num}, {num**2})\")\n",
    "\n",
    "# Calculate the sum of the numbers\n",
    "total_sum = sum(numbers)\n",
    "print(f\"\\nAmazing! The sum of your favorite numbers is: {total_sum}\")\n",
    "    \n",
    "# Check if the sum is a prime number\n",
    "def is_prime(n):\n",
    "    if n <= 1:\n",
    "        return False\n",
    "    for i in range(2, int(n**0.5) + 1):\n",
    "        if n % i == 0:\n",
    "            return False\n",
    "    return True\n",
    "\n",
    "if is_prime(total_sum):\n",
    "    print(f\"Wow, {total_sum} is a prime number!\")\n",
    "else:\n",
    "    print(f\"{total_sum} is not a prime number, but it's still a great number!\")\n",
    "# This file contains the solution of 7th assignment \n",
    "# Python Programming Assignment: Number Exploration Tool\n",
    "\n",
    "# Ask for the user's name\n",
    "name = input(\"Enter your name: \")\n",
    "    \n",
    "# Get three favorite numbers from the user\n",
    "numbers = []\n",
    "for i in range(1, 4):\n",
    "    number = int(input(f\"Enter your {i}{'st' if i == 1 else 'nd' if i == 2 else 'rd'} favorite number: \"))\n",
    "    numbers.append(number)\n",
    "    \n",
    "# Greet the user\n",
    "print(f\"\\nHello, {name}! Let's explore your favorite numbers:\\n\")\n",
    "\n",
    "# Create an empty list\n",
    "even_odd_info = []\n",
    "\n",
    "for num in numbers:\n",
    "    if num % 2 == 0:\n",
    "        even_odd_info.append((num, \"even\")) \n",
    "    else:\n",
    "        even_odd_info.append((num, \"odd\"))\n",
    "\n",
    "# Display the even/odd info\n",
    "for num, parity in even_odd_info:\n",
    "    print(f\"The number {num} is {parity}.\")\n",
    "\n",
    "# Print the number and its square\n",
    "print(\"\\nHere are your numbers and their squares:\")\n",
    "for num in numbers:\n",
    "    print(f\"The number {num} and its square: ({num}, {num**2})\")\n",
    "\n",
    "# Calculate the sum of the numbers\n",
    "total_sum = sum(numbers)\n",
    "print(f\"\\nAmazing! The sum of your favorite numbers is: {total_sum}\")\n",
    "    \n",
    "# Check if the sum is a prime number\n",
    "def is_prime(n):\n",
    "    if n <= 1:\n",
    "        return False\n",
    "    for i in range(2, int(n**0.5) + 1):\n",
    "        if n % i == 0:\n",
    "            return False\n",
    "    return True\n",
    "\n",
    "if is_prime(total_sum):\n",
    "    print(f\"Wow, {total_sum} is a prime number!\")\n",
    "else:\n",
    "    print(f\"{total_sum} is not a prime number, but it's still a great number!\")\n"
   ]
  },
  {
   "cell_type": "code",
   "execution_count": 1,
   "metadata": {},
   "outputs": [
    {
     "name": "stdout",
     "output_type": "stream",
     "text": [
      "2\n",
      "3\n",
      "4\n",
      "5\n",
      "6\n",
      "7\n",
      "8\n",
      "9\n"
     ]
    }
   ],
   "source": [
    "# The Loops\n",
    "\n",
    "for x in range(2, 10):\n",
    "    print(x)"
   ]
  },
  {
   "cell_type": "code",
   "execution_count": 3,
   "metadata": {},
   "outputs": [],
   "source": [
    "# The dicts\n",
    "data_1 = {\n",
    "    'Name' : 'Wasif',\n",
    "    'Degree' : 'BSSE',\n",
    "    'Year' : '2022'}"
   ]
  },
  {
   "cell_type": "code",
   "execution_count": 4,
   "metadata": {},
   "outputs": [
    {
     "name": "stdout",
     "output_type": "stream",
     "text": [
      "Name\n",
      "Degree\n",
      "Year\n"
     ]
    }
   ],
   "source": [
    "for i in data_1:\n",
    "    print(i)"
   ]
  },
  {
   "cell_type": "code",
   "execution_count": 6,
   "metadata": {},
   "outputs": [
    {
     "data": {
      "text/plain": [
       "dict_items([('Name', 'Wasif'), ('Degree', 'BSSE'), ('Year', '2022')])"
      ]
     },
     "execution_count": 6,
     "metadata": {},
     "output_type": "execute_result"
    }
   ],
   "source": [
    "data_1.items()"
   ]
  },
  {
   "cell_type": "code",
   "execution_count": 8,
   "metadata": {},
   "outputs": [
    {
     "data": {
      "text/plain": [
       "('Name', 'Wasif')"
      ]
     },
     "execution_count": 8,
     "metadata": {},
     "output_type": "execute_result"
    }
   ],
   "source": [
    "list(data_1.items())[0]"
   ]
  },
  {
   "cell_type": "code",
   "execution_count": 11,
   "metadata": {},
   "outputs": [
    {
     "data": {
      "text/plain": [
       "'Wasif'"
      ]
     },
     "execution_count": 11,
     "metadata": {},
     "output_type": "execute_result"
    }
   ],
   "source": [
    "data_1[\"Name\"]"
   ]
  },
  {
   "cell_type": "code",
   "execution_count": 14,
   "metadata": {},
   "outputs": [
    {
     "name": "stdout",
     "output_type": "stream",
     "text": [
      "The key is Name and the value is Wasif\n",
      "The key is Degree and the value is BSSE\n",
      "The key is Year and the value is 2022\n"
     ]
    }
   ],
   "source": [
    "for x, y in data_1.items():\n",
    "    print(f\"The key is {x} and the value is {y}\")"
   ]
  },
  {
   "cell_type": "code",
   "execution_count": 22,
   "metadata": {},
   "outputs": [],
   "source": [
    "students = {\n",
    "    'Roll Numbers' : [111, 211, 311, 411, 511],\n",
    "    'Names' : ['Zeeshan', 'Ali', 'Hamza', 'Noman', 'Farhan'],\n",
    "    'Class' : ['4th', '5th', '6th', '7th', '8th']\n",
    "}"
   ]
  },
  {
   "cell_type": "code",
   "execution_count": 23,
   "metadata": {},
   "outputs": [
    {
     "data": {
      "text/plain": [
       "{'Roll Numbers': [111, 211, 311, 411, 511],\n",
       " 'Names': ['Zeeshan', 'Ali', 'Hamza', 'Noman', 'Farhan'],\n",
       " 'Class': ['4th', '5th', '6th', '7th', '8th']}"
      ]
     },
     "execution_count": 23,
     "metadata": {},
     "output_type": "execute_result"
    }
   ],
   "source": [
    "students"
   ]
  },
  {
   "cell_type": "code",
   "execution_count": 18,
   "metadata": {},
   "outputs": [
    {
     "data": {
      "text/plain": [
       "dict_items([('Roll Numbers', [1, 2, 3, 4, 5]), ('Names', ['Zeeshan', 'Ali', 'Hamza', 'Noman', 'Farhan']), ('Class', ['4th', '5th', '6th', '7th', '8th'])])"
      ]
     },
     "execution_count": 18,
     "metadata": {},
     "output_type": "execute_result"
    }
   ],
   "source": [
    "students.items()"
   ]
  },
  {
   "cell_type": "code",
   "execution_count": 20,
   "metadata": {},
   "outputs": [],
   "source": [
    "# for key, value in students:\n",
    "    # print(f\"The key:{key}___The Value:{value}\")"
   ]
  },
  {
   "cell_type": "code",
   "execution_count": 24,
   "metadata": {},
   "outputs": [
    {
     "name": "stdout",
     "output_type": "stream",
     "text": [
      "111\n",
      "211\n",
      "311\n",
      "411\n",
      "511\n"
     ]
    }
   ],
   "source": [
    "rollNum = students[\"Roll Numbers\"]\n",
    "for i in rollNum:\n",
    "    print(i)"
   ]
  },
  {
   "cell_type": "code",
   "execution_count": null,
   "metadata": {},
   "outputs": [],
   "source": [
    "rollNum = students[\"Roll Numbers\"]\n",
    "for i in rollNum:\n",
    "    print(i)"
   ]
  }
 ],
 "metadata": {
  "kernelspec": {
   "display_name": "Python 3",
   "language": "python",
   "name": "python3"
  },
  "language_info": {
   "codemirror_mode": {
    "name": "ipython",
    "version": 3
   },
   "file_extension": ".py",
   "mimetype": "text/x-python",
   "name": "python",
   "nbconvert_exporter": "python",
   "pygments_lexer": "ipython3",
   "version": "3.12.5"
  }
 },
 "nbformat": 4,
 "nbformat_minor": 2
}
